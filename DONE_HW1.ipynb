{
  "cells": [
    {
      "cell_type": "markdown",
      "metadata": {
        "id": "view-in-github",
        "colab_type": "text"
      },
      "source": [
        "<a href=\"https://colab.research.google.com/github/kekys778/NLP_HSE/blob/main/DONE_HW1.ipynb\" target=\"_parent\"><img src=\"https://colab.research.google.com/assets/colab-badge.svg\" alt=\"Open In Colab\"/></a>"
      ]
    },
    {
      "cell_type": "code",
      "execution_count": null,
      "metadata": {
        "id": "MaazM4MOnJer"
      },
      "outputs": [],
      "source": [
        "import numpy as np\n",
        "\n",
        "from sklearn.metrics import classification_report\n",
        "\n",
        "import torch\n",
        "from torch.utils.data import DataLoader\n",
        "from torchvision.datasets import MNIST\n",
        "from torchvision import transforms\n",
        "\n",
        "import matplotlib.pyplot as plt\n",
        "\n",
        "from tqdm import tqdm\n",
        "\n",
        "from sklearn.metrics import accuracy_score\n",
        "\n",
        "import time"
      ]
    },
    {
      "cell_type": "markdown",
      "metadata": {
        "id": "TCtbEwxsnJes"
      },
      "source": [
        "# Домашка №1\n",
        "# Усложненная\n",
        "### Эта домашка нужна для лучшего понимания, но она будет сложнее из-за использования классов и, возможно, пока непривычной форме с классами.\n",
        "Абстракции в этой домашке будут очень полезны для понимания того, что происходит в торче. Эта домашка прокачает вас гораздо сильнее, но и выполнить ее будет труднее. Вам нужно будет описать несколько слоев: `Linear`, `ReLU`, `BCELoss`.  Реализация `Sigmoid` уже есть в `our_library.layers`. Реализовав слои выше вы сможете сделать n-слойную нейронную сеть с любым количеством слоев. Это получается за счет того, что вы описали всю необходимую логику:\n",
        "- Как нужно обработать входные данные и передать их дальше;\n",
        "- Принять градиент с последующего слоя, сделать `backward` для текущего слоя и передать градиент предыдущему слою;\n",
        "- Как обновить веса, если в слоев есть обучаемые веса.\n",
        "\n",
        "Присылайте свои недоделанные сложные домашки, пусть они не пойдут совсем в стол. Я или ассистенты посмотрят, мы обсудим и доделаем.  \n",
        "Поверьте, эта домашка стоит того, чтобы ее сделать!"
      ]
    },
    {
      "cell_type": "markdown",
      "metadata": {
        "id": "5D_As3JBnJes"
      },
      "source": [
        "# Датасет\n",
        "Мы его просто загрузим и здесь пока будет какая-то торчовая магия, которую мы разберем на следующем занятии"
      ]
    },
    {
      "cell_type": "markdown",
      "metadata": {
        "id": "NnHQ_exRnJet"
      },
      "source": [
        "### Некоторые магические трансформации, о которых пока не стоит заморачиваться\n",
        "1. Перевод картинки в тензор\n",
        "1. Нормализация картинки"
      ]
    },
    {
      "cell_type": "code",
      "execution_count": null,
      "metadata": {
        "id": "FUbefbxWnJet"
      },
      "outputs": [],
      "source": [
        "transform = transforms.Compose([\n",
        "    transforms.ToTensor(),\n",
        "    transforms.Normalize((0.1307,), (0.3081,))\n",
        "])"
      ]
    },
    {
      "cell_type": "code",
      "execution_count": null,
      "metadata": {
        "id": "zLJESlNJfr84"
      },
      "outputs": [],
      "source": []
    },
    {
      "cell_type": "markdown",
      "metadata": {
        "id": "lOnvGU2mnJet"
      },
      "source": [
        "## Загружаем датасет\n",
        "Конкретно эта часть кода понадобится нам один раз за курс и будет только в этой домашке"
      ]
    },
    {
      "cell_type": "code",
      "execution_count": null,
      "metadata": {
        "id": "dGQ5C5KGnJet"
      },
      "outputs": [],
      "source": [
        "train_dataset = MNIST('.', train=True, download=True, transform=transform)\n",
        "test_dataset = MNIST('.', train=False, transform=transform)"
      ]
    },
    {
      "cell_type": "markdown",
      "metadata": {
        "id": "bs26fDKJnJet"
      },
      "source": [
        "## Переводим его в два класса\n",
        "Это нужно для упрощения задачи до бинарной классификации. В этой домашке мы будем отличать две цифры: 1 и 7."
      ]
    },
    {
      "cell_type": "code",
      "execution_count": null,
      "metadata": {
        "id": "ZnX0CuF6nJeu"
      },
      "outputs": [],
      "source": [
        "train_dataset.data = train_dataset.data[(train_dataset.targets == 3) | (train_dataset.targets == 7)]\n",
        "train_dataset.targets = train_dataset.targets[(train_dataset.targets == 3) | (train_dataset.targets == 7)]\n",
        "\n",
        "test_dataset.data = test_dataset.data[(test_dataset.targets == 3) | (test_dataset.targets == 7)]\n",
        "test_dataset.targets = test_dataset.targets[(test_dataset.targets == 3) | (test_dataset.targets == 7)]\n",
        "\n",
        "train_dataset.targets = (train_dataset.targets == 7).long()\n",
        "test_dataset.targets = (test_dataset.targets == 7).long()"
      ]
    },
    {
      "cell_type": "markdown",
      "metadata": {
        "id": "WchOqjoSnJeu"
      },
      "source": [
        "## Оборачиваем в итератор данных\n",
        "Далее в курсе мы поговорим о том, что это такое более подробно, а дальше в этой тетрадке будет несколько полезных деталей.  \n",
        "Пока что будет достаточно понимать, что мы обернули наши данные в некоторую абстракцию, итерация по которой дает нам батчи данных из нашего датасета.  "
      ]
    },
    {
      "cell_type": "code",
      "execution_count": null,
      "metadata": {
        "id": "5M_Ba3LGnJeu"
      },
      "outputs": [],
      "source": [
        "train_loader = DataLoader(train_dataset, batch_size=128, shuffle=True)\n",
        "test_loader = DataLoader(test_dataset, batch_size=128, shuffle=False)"
      ]
    },
    {
      "cell_type": "markdown",
      "metadata": {
        "id": "qr_I1LS7nJeu"
      },
      "source": [
        "## Порисуем данные\n",
        "\n",
        "- классу 0 соответствует цифра 3\n",
        "- классу 1 соответствует цифра 7  \n",
        "\n",
        "Выбрал эти цифры, потому что на них хуже всего метрики"
      ]
    },
    {
      "cell_type": "code",
      "execution_count": null,
      "metadata": {
        "colab": {
          "base_uri": "https://localhost:8080/",
          "height": 637
        },
        "id": "hXkbtAQ5nJeu",
        "outputId": "d47074b0-879d-4333-f75b-d448cad025e6"
      },
      "outputs": [
        {
          "output_type": "stream",
          "name": "stderr",
          "text": [
            "Epoch 1:   0%|          | 0/97 [58:44<?, ?it/s]\n",
            "Epoch 1:   0%|          | 0/97 [39:00<?, ?it/s]\n",
            "Epoch 1:   0%|          | 0/97 [27:20<?, ?it/s]\n"
          ]
        },
        {
          "output_type": "display_data",
          "data": {
            "text/plain": [
              "<Figure size 600x700 with 25 Axes>"
            ],
            "image/png": "[encoded data removed]"
          },
          "metadata": {}
        }
      ],
      "source": [
        "X, y = next(iter(train_loader))\n",
        "X = X.numpy()\n",
        "y = y.numpy()\n",
        "\n",
        "plt.figure(figsize=(6, 7))\n",
        "for i in range(25):\n",
        "    plt.subplot(5, 5, i+1)\n",
        "    plt.imshow(X[i].reshape(28, 28), cmap=plt.cm.Greys_r)\n",
        "    plt.title(y[i])\n",
        "    plt.axis('off')"
      ]
    },
    {
      "cell_type": "markdown",
      "metadata": {
        "id": "W1GLpcaxnJeu"
      },
      "source": [
        "# Итерация по датасету\n",
        "- x - батч с данными\n",
        "- y - батч с таргетами к этим данным"
      ]
    },
    {
      "cell_type": "code",
      "execution_count": null,
      "metadata": {
        "id": "5yw_Iz2gnJeu"
      },
      "outputs": [],
      "source": [
        "for x, y in train_loader:\n",
        "    break"
      ]
    },
    {
      "cell_type": "markdown",
      "metadata": {
        "id": "pxSUlYIwnJeu"
      },
      "source": [
        "### train_loader это итератор, при проходе по которому будут выдаваться батчи данных"
      ]
    },
    {
      "cell_type": "markdown",
      "metadata": {
        "id": "kQ737XjfnJeu"
      },
      "source": [
        "## Размерность x\n",
        "- 128 - размер батча\n",
        "- 1 - количество каналов, у нас чернобелые картинки, поэтому канал 1\n",
        "- 28 - количество пикселей в длину\n",
        "- 28 - количество пикселей в ширину"
      ]
    },
    {
      "cell_type": "code",
      "execution_count": null,
      "metadata": {
        "colab": {
          "base_uri": "https://localhost:8080/"
        },
        "id": "hhojAUbmnJev",
        "outputId": "21f23c71-5e60-40a4-f059-1b3ce6de2da3"
      },
      "outputs": [
        {
          "output_type": "execute_result",
          "data": {
            "text/plain": [
              "torch.Size([128, 1, 28, 28])"
            ]
          },
          "metadata": {},
          "execution_count": 389
        }
      ],
      "source": [
        "x.shape"
      ]
    },
    {
      "cell_type": "code",
      "execution_count": null,
      "metadata": {
        "colab": {
          "base_uri": "https://localhost:8080/"
        },
        "id": "h1FmCqucnJev",
        "outputId": "3af1c7c8-35c7-4485-8dd7-9c01c9514f0d"
      },
      "outputs": [
        {
          "output_type": "execute_result",
          "data": {
            "text/plain": [
              "tensor([[[[-0.4242, -0.4242, -0.4242,  ..., -0.4242, -0.4242, -0.4242],\n",
              "          [-0.4242, -0.4242, -0.4242,  ..., -0.4242, -0.4242, -0.4242],\n",
              "          [-0.4242, -0.4242, -0.4242,  ..., -0.4242, -0.4242, -0.4242],\n",
              "          ...,\n",
              "          [-0.4242, -0.4242, -0.4242,  ..., -0.4242, -0.4242, -0.4242],\n",
              "          [-0.4242, -0.4242, -0.4242,  ..., -0.4242, -0.4242, -0.4242],\n",
              "          [-0.4242, -0.4242, -0.4242,  ..., -0.4242, -0.4242, -0.4242]]],\n",
              "\n",
              "\n",
              "        [[[-0.4242, -0.4242, -0.4242,  ..., -0.4242, -0.4242, -0.4242],\n",
              "          [-0.4242, -0.4242, -0.4242,  ..., -0.4242, -0.4242, -0.4242],\n",
              "          [-0.4242, -0.4242, -0.4242,  ..., -0.4242, -0.4242, -0.4242],\n",
              "          ...,\n",
              "          [-0.4242, -0.4242, -0.4242,  ..., -0.4242, -0.4242, -0.4242],\n",
              "          [-0.4242, -0.4242, -0.4242,  ..., -0.4242, -0.4242, -0.4242],\n",
              "          [-0.4242, -0.4242, -0.4242,  ..., -0.4242, -0.4242, -0.4242]]],\n",
              "\n",
              "\n",
              "        [[[-0.4242, -0.4242, -0.4242,  ..., -0.4242, -0.4242, -0.4242],\n",
              "          [-0.4242, -0.4242, -0.4242,  ..., -0.4242, -0.4242, -0.4242],\n",
              "          [-0.4242, -0.4242, -0.4242,  ..., -0.4242, -0.4242, -0.4242],\n",
              "          ...,\n",
              "          [-0.4242, -0.4242, -0.4242,  ..., -0.4242, -0.4242, -0.4242],\n",
              "          [-0.4242, -0.4242, -0.4242,  ..., -0.4242, -0.4242, -0.4242],\n",
              "          [-0.4242, -0.4242, -0.4242,  ..., -0.4242, -0.4242, -0.4242]]],\n",
              "\n",
              "\n",
              "        ...,\n",
              "\n",
              "\n",
              "        [[[-0.4242, -0.4242, -0.4242,  ..., -0.4242, -0.4242, -0.4242],\n",
              "          [-0.4242, -0.4242, -0.4242,  ..., -0.4242, -0.4242, -0.4242],\n",
              "          [-0.4242, -0.4242, -0.4242,  ..., -0.4242, -0.4242, -0.4242],\n",
              "          ...,\n",
              "          [-0.4242, -0.4242, -0.4242,  ..., -0.4242, -0.4242, -0.4242],\n",
              "          [-0.4242, -0.4242, -0.4242,  ..., -0.4242, -0.4242, -0.4242],\n",
              "          [-0.4242, -0.4242, -0.4242,  ..., -0.4242, -0.4242, -0.4242]]],\n",
              "\n",
              "\n",
              "        [[[-0.4242, -0.4242, -0.4242,  ..., -0.4242, -0.4242, -0.4242],\n",
              "          [-0.4242, -0.4242, -0.4242,  ..., -0.4242, -0.4242, -0.4242],\n",
              "          [-0.4242, -0.4242, -0.4242,  ..., -0.4242, -0.4242, -0.4242],\n",
              "          ...,\n",
              "          [-0.4242, -0.4242, -0.4242,  ..., -0.4242, -0.4242, -0.4242],\n",
              "          [-0.4242, -0.4242, -0.4242,  ..., -0.4242, -0.4242, -0.4242],\n",
              "          [-0.4242, -0.4242, -0.4242,  ..., -0.4242, -0.4242, -0.4242]]],\n",
              "\n",
              "\n",
              "        [[[-0.4242, -0.4242, -0.4242,  ..., -0.4242, -0.4242, -0.4242],\n",
              "          [-0.4242, -0.4242, -0.4242,  ..., -0.4242, -0.4242, -0.4242],\n",
              "          [-0.4242, -0.4242, -0.4242,  ..., -0.4242, -0.4242, -0.4242],\n",
              "          ...,\n",
              "          [-0.4242, -0.4242, -0.4242,  ..., -0.4242, -0.4242, -0.4242],\n",
              "          [-0.4242, -0.4242, -0.4242,  ..., -0.4242, -0.4242, -0.4242],\n",
              "          [-0.4242, -0.4242, -0.4242,  ..., -0.4242, -0.4242, -0.4242]]]])"
            ]
          },
          "metadata": {},
          "execution_count": 390
        }
      ],
      "source": [
        "x"
      ]
    },
    {
      "cell_type": "markdown",
      "metadata": {
        "id": "A5Acam69nJev"
      },
      "source": [
        "## Просто выпрямим нашу матрицу в один вектор\n",
        "### То есть каждая фича в векторе это значение пикселя\n",
        "### Для нашей игрушечной задачи этого будет достаточно"
      ]
    },
    {
      "cell_type": "code",
      "execution_count": null,
      "metadata": {
        "colab": {
          "base_uri": "https://localhost:8080/"
        },
        "id": "wVMgjNAbnJev",
        "outputId": "08896d94-8ace-4879-bf28-c6fe37e6cd0a"
      },
      "outputs": [
        {
          "output_type": "execute_result",
          "data": {
            "text/plain": [
              "(128, 784)"
            ]
          },
          "metadata": {},
          "execution_count": 391
        }
      ],
      "source": [
        "x.view(x.shape[0], -1).numpy().shape"
      ]
    },
    {
      "cell_type": "markdown",
      "metadata": {
        "id": "CoekeT75nJev"
      },
      "source": [
        "### x.numpy()\n",
        "Это перевод торчового тензора (некоторая абстракция, о которой мы будем говорить позже на курсе) в numpy массив"
      ]
    },
    {
      "cell_type": "code",
      "execution_count": null,
      "metadata": {
        "id": "Y6Sl0HrjnJev"
      },
      "outputs": [],
      "source": [
        "for x, y in train_loader:\n",
        "    x = x.view(x.shape[0], -1).numpy()\n",
        "    y = y.numpy()\n",
        "    break"
      ]
    },
    {
      "cell_type": "code",
      "execution_count": null,
      "metadata": {
        "colab": {
          "base_uri": "https://localhost:8080/"
        },
        "id": "M_dqRWkjnJev",
        "outputId": "03594a6b-1daa-4275-f953-4d1b2a5a3e9d"
      },
      "outputs": [
        {
          "output_type": "execute_result",
          "data": {
            "text/plain": [
              "array([[-0.42421296, -0.42421296, -0.42421296, ..., -0.42421296,\n",
              "        -0.42421296, -0.42421296],\n",
              "       [-0.42421296, -0.42421296, -0.42421296, ..., -0.42421296,\n",
              "        -0.42421296, -0.42421296],\n",
              "       [-0.42421296, -0.42421296, -0.42421296, ..., -0.42421296,\n",
              "        -0.42421296, -0.42421296],\n",
              "       ...,\n",
              "       [-0.42421296, -0.42421296, -0.42421296, ..., -0.42421296,\n",
              "        -0.42421296, -0.42421296],\n",
              "       [-0.42421296, -0.42421296, -0.42421296, ..., -0.42421296,\n",
              "        -0.42421296, -0.42421296],\n",
              "       [-0.42421296, -0.42421296, -0.42421296, ..., -0.42421296,\n",
              "        -0.42421296, -0.42421296]], dtype=float32)"
            ]
          },
          "metadata": {},
          "execution_count": 393
        }
      ],
      "source": [
        "x"
      ]
    },
    {
      "cell_type": "markdown",
      "metadata": {
        "id": "hDKompUXnJev"
      },
      "source": [
        "### Размерность\n",
        "- количество примеров в батче\n",
        "- количество фичей"
      ]
    },
    {
      "cell_type": "code",
      "execution_count": null,
      "metadata": {
        "colab": {
          "base_uri": "https://localhost:8080/"
        },
        "id": "agqmcX6wnJev",
        "outputId": "c02ca491-9f7c-42bc-d810-6018533694a9"
      },
      "outputs": [
        {
          "output_type": "execute_result",
          "data": {
            "text/plain": [
              "(128, 784)"
            ]
          },
          "metadata": {},
          "execution_count": 394
        }
      ],
      "source": [
        "x.shape"
      ]
    },
    {
      "cell_type": "markdown",
      "metadata": {
        "id": "KS7Jf2w2nJev"
      },
      "source": [
        "# Таргеты\n",
        "- классу 0 соответствует цифра 3\n",
        "- классу 1 соответствует цифра 7"
      ]
    },
    {
      "cell_type": "code",
      "execution_count": null,
      "metadata": {
        "colab": {
          "base_uri": "https://localhost:8080/"
        },
        "id": "GIFnWVaInJev",
        "outputId": "568fd58c-9c16-4c7d-bd45-90ee22ea2cd8"
      },
      "outputs": [
        {
          "output_type": "execute_result",
          "data": {
            "text/plain": [
              "array([1, 1, 1, 1, 0, 1, 1, 0, 0, 1, 1, 1, 1, 1, 1, 1, 0, 0, 0, 1, 1, 1,\n",
              "       1, 1, 1, 1, 0, 0, 1, 0, 0, 0, 0, 0, 0, 0, 0, 0, 1, 0, 1, 0, 0, 0,\n",
              "       1, 0, 1, 1, 0, 1, 0, 0, 1, 0, 1, 1, 1, 1, 1, 0, 1, 1, 0, 1, 0, 1,\n",
              "       0, 0, 1, 0, 0, 0, 0, 1, 1, 0, 1, 0, 1, 1, 0, 1, 0, 0, 1, 0, 1, 1,\n",
              "       0, 1, 1, 0, 0, 1, 0, 0, 1, 0, 0, 0, 0, 1, 0, 1, 1, 1, 1, 1, 0, 1,\n",
              "       0, 0, 1, 0, 1, 1, 1, 0, 0, 0, 0, 1, 0, 1, 0, 0, 1, 1])"
            ]
          },
          "metadata": {},
          "execution_count": 395
        }
      ],
      "source": [
        "y"
      ]
    },
    {
      "cell_type": "markdown",
      "metadata": {
        "id": "I2ZX2LqnnJev"
      },
      "source": [
        "# Итерация по эпохам"
      ]
    },
    {
      "cell_type": "code",
      "execution_count": null,
      "metadata": {
        "colab": {
          "base_uri": "https://localhost:8080/"
        },
        "id": "XZ6kKH8vnJev",
        "outputId": "26149d01-d469-41bb-9e3c-6ef2c8bee18b"
      },
      "outputs": [
        {
          "output_type": "stream",
          "name": "stdout",
          "text": [
            "Эпоха - 1, прошли - 100.00 % датасета\n",
            "Эпоха - 2, прошли - 100.00 % датасета\n",
            "Эпоха - 3, прошли - 100.00 % датасета\n"
          ]
        }
      ],
      "source": [
        "# количество эпох - полных проходов по датасету\n",
        "epochs = 3\n",
        "\n",
        "for n_epoch in range(epochs):\n",
        "\n",
        "    dataset_passed_samples = 0\n",
        "\n",
        "    for x, y in train_loader:\n",
        "\n",
        "        # вот здесь мы могли бы как-то манипулировать с данными\n",
        "        # например, учить, но пока этого делать не будет\n",
        "        # только демонстрация\n",
        "\n",
        "        time.sleep(0.01)\n",
        "\n",
        "        dataset_passed_samples += x.shape[0]\n",
        "\n",
        "        dataset_passed_percent = dataset_passed_samples * 100 / train_loader.dataset.data.shape[0]\n",
        "\n",
        "        print(f'Эпоха - {n_epoch + 1}, прошли - {dataset_passed_percent:.2f} % датасета', end='\\r')\n",
        "\n",
        "    print('\\r')"
      ]
    },
    {
      "cell_type": "markdown",
      "metadata": {
        "id": "n3RsmatynJev"
      },
      "source": [
        "# Небольшие пояснения по numpy"
      ]
    },
    {
      "cell_type": "code",
      "execution_count": null,
      "metadata": {
        "colab": {
          "base_uri": "https://localhost:8080/"
        },
        "id": "-DgwBbABnJev",
        "outputId": "6bbd0f1d-9d83-4728-e179-560fe4224dac"
      },
      "outputs": [
        {
          "output_type": "execute_result",
          "data": {
            "text/plain": [
              "array([[0.44991489, 0.45500567, 0.64558199, ..., 0.37599229, 0.39215407,\n",
              "        0.95452544],\n",
              "       [0.18488994, 0.47828979, 0.18449583, ..., 0.280529  , 0.39987993,\n",
              "        0.90814814],\n",
              "       [0.37070258, 0.78079071, 0.55945229, ..., 0.60315824, 0.14855696,\n",
              "        0.75166924],\n",
              "       ...,\n",
              "       [0.73137954, 0.11837606, 0.59701729, ..., 0.67603742, 0.47377412,\n",
              "        0.09331891],\n",
              "       [0.11387578, 0.36217781, 0.97102998, ..., 0.41853195, 0.25299677,\n",
              "        0.60343684],\n",
              "       [0.71572517, 0.42642704, 0.89450552, ..., 0.42131921, 0.55877319,\n",
              "        0.35228923]])"
            ]
          },
          "metadata": {},
          "execution_count": 397
        }
      ],
      "source": [
        "# таким образом мы создаем матрицу 64 на 512 с рандомными значениями\n",
        "x = np.random.rand(64, 512)\n",
        "x"
      ]
    },
    {
      "cell_type": "code",
      "execution_count": null,
      "metadata": {
        "colab": {
          "base_uri": "https://localhost:8080/"
        },
        "id": "_jEtvQ2enJew",
        "outputId": "b9fa9ebc-86f0-498c-8968-2e2ba3411443"
      },
      "outputs": [
        {
          "output_type": "execute_result",
          "data": {
            "text/plain": [
              "array([[-0.59627342, -0.58041525, -0.02082694, ..., -0.83681644,\n",
              "        -0.78231567,  0.86457783],\n",
              "       [-1.65381024, -0.50877734, -1.65608971, ..., -1.19238164,\n",
              "        -0.756687  ,  0.72838528],\n",
              "       [-0.85493482,  0.362186  , -0.26781017, ..., -0.14177583,\n",
              "        -1.88471763,  0.27954776],\n",
              "       ...,\n",
              "       [ 0.22209328, -2.11987585, -0.15937955, ...,  0.06551976,\n",
              "        -0.52256269, -2.36302411],\n",
              "       [-2.15967935, -0.88444723,  0.91350128, ..., -0.69583307,\n",
              "        -1.31037121, -0.14097789],\n",
              "       [ 0.17780348, -0.67047398,  0.68865591, ..., -0.68685465,\n",
              "        -0.26978416, -0.91919507]])"
            ]
          },
          "metadata": {},
          "execution_count": 398
        }
      ],
      "source": [
        "# большинство функций применяются к каждому элементу массива\n",
        "# здесь мы каждый элемент массива возвели в квадрат и прибавили к получившемуся значению логарифм элемента матрицы\n",
        "x ** 2 + np.log(x)"
      ]
    },
    {
      "cell_type": "code",
      "execution_count": null,
      "metadata": {
        "id": "kpkzqWhLnJew"
      },
      "outputs": [],
      "source": [
        "y = np.random.rand(512, 1024)\n",
        "# скалярное произведение\n",
        "res = np.dot(x, y)"
      ]
    },
    {
      "cell_type": "code",
      "execution_count": null,
      "metadata": {
        "colab": {
          "base_uri": "https://localhost:8080/"
        },
        "id": "2CdUOMwenJew",
        "outputId": "9db331b8-f7a2-4d67-bb18-73016d213b59"
      },
      "outputs": [
        {
          "output_type": "execute_result",
          "data": {
            "text/plain": [
              "array([[131.77730079, 133.47813135, 129.43864472, ..., 131.52007595,\n",
              "        127.76482888, 133.01463735],\n",
              "       [131.0952977 , 136.58765165, 133.55943945, ..., 134.57047635,\n",
              "        127.99521984, 136.85485115],\n",
              "       [133.53664838, 137.85422684, 132.54694784, ..., 131.92708688,\n",
              "        126.87195972, 135.10515061],\n",
              "       ...,\n",
              "       [131.27119009, 136.29255681, 133.71643011, ..., 130.6069237 ,\n",
              "        129.17002746, 131.95853973],\n",
              "       [127.1970093 , 134.5211067 , 126.13861393, ..., 125.38233754,\n",
              "        123.37606171, 127.81586624],\n",
              "       [138.461871  , 140.16909102, 142.0872123 , ..., 136.3010094 ,\n",
              "        131.42614268, 139.64734856]])"
            ]
          },
          "metadata": {},
          "execution_count": 400
        }
      ],
      "source": [
        "res"
      ]
    },
    {
      "cell_type": "code",
      "execution_count": null,
      "metadata": {
        "colab": {
          "base_uri": "https://localhost:8080/"
        },
        "id": "onVlqR5TnJew",
        "outputId": "73ef90f3-dcde-46cb-eed8-f620691f2772"
      },
      "outputs": [
        {
          "output_type": "execute_result",
          "data": {
            "text/plain": [
              "True"
            ]
          },
          "metadata": {},
          "execution_count": 401
        }
      ],
      "source": [
        "res.shape == (x.shape[0], y.shape[1])"
      ]
    },
    {
      "cell_type": "markdown",
      "metadata": {
        "id": "uKNQ62APnJew"
      },
      "source": [
        "# Импортируем нашу библиотеку\n",
        "В ней реализованы некоторые полезные методы, в модуле `layers` есть реализация сигмоиды. Остальное вам смотреть необязательно, это некоторые дополнения, упрощающие вам жизнь."
      ]
    },
    {
      "cell_type": "code",
      "execution_count": null,
      "metadata": {
        "colab": {
          "base_uri": "https://localhost:8080/"
        },
        "id": "ZPe2IgEbgq_z",
        "outputId": "a0639369-b55f-492d-a2f7-ae5f2471f9c1"
      },
      "outputs": [
        {
          "output_type": "stream",
          "name": "stdout",
          "text": [
            "fatal: destination path 'from-numpy-import-Neural-Network' already exists and is not an empty directory.\n"
          ]
        }
      ],
      "source": [
        "!git clone https://github.com/zelcookie/from-numpy-import-Neural-Network.git\n",
        "import sys\n",
        "sys.path.append(\"/content/from-numpy-import-Neural-Network/\")"
      ]
    },
    {
      "cell_type": "code",
      "execution_count": null,
      "metadata": {
        "id": "XVXs0kyhnJew"
      },
      "outputs": [],
      "source": [
        "from our_library import layers, wrapper, tools"
      ]
    },
    {
      "cell_type": "code",
      "execution_count": null,
      "metadata": {
        "id": "-bi4Owfjho5a"
      },
      "outputs": [],
      "source": [
        "layers.Sigmoid??"
      ]
    },
    {
      "cell_type": "markdown",
      "metadata": {
        "id": "9_Wx4aMhnJew"
      },
      "source": [
        "## Реализуйте слои:\n",
        "- Linear - линейная трансформация (не забудьте, что у нас в этом слое как раз есть обучаемые параметры)\n",
        "- ReLU\n",
        "- BCELoss - Binary Cross Entropy\n",
        "\n",
        "\n",
        "## Вы можете реализовать как здесь, так и в файла layers\n",
        "\n",
        "- TIP: np.expand_dims(y, 1) для BCE, так как BCE на вход принимает просто вектор размерностью (батч сайз, 1)\n",
        "\n",
        "## Также внутри layers есть код для Negative Log-Likelihood (сразу с софтмаксом) для примера"
      ]
    },
    {
      "cell_type": "markdown",
      "metadata": {
        "id": "-nyD9dUynJey"
      },
      "source": [
        "# Пример c сигмоидой\n",
        "В `our_library.layers` также это есть"
      ]
    },
    {
      "cell_type": "code",
      "execution_count": null,
      "metadata": {
        "id": "1UzUcpgWnJey"
      },
      "outputs": [],
      "source": [
        "class Sigmoid:\n",
        "\n",
        "    def __init__(self):\n",
        "\n",
        "        self._sigmoid_result = None\n",
        "\n",
        "    def forward(self, x):\n",
        "\n",
        "        self._sigmoid_result = 1 / (1 + np.exp(-x))\n",
        "\n",
        "        return self._sigmoid_result\n",
        "\n",
        "    def backward(self, grad):\n",
        "        \"\"\"\n",
        "        :grad: градиент от предыдущего слоя\n",
        "        :return: градиент для следующего слоя\n",
        "        \"\"\"\n",
        "\n",
        "        new_grad = self._sigmoid_result * (1 - self._sigmoid_result) * grad\n",
        "\n",
        "        return new_grad\n",
        "\n",
        "    def step(self, learning_step):\n",
        "\n",
        "        pass"
      ]
    },
    {
      "cell_type": "markdown",
      "metadata": {
        "id": "17XayEZBnJez"
      },
      "source": [
        "# Тестирование"
      ]
    },
    {
      "cell_type": "code",
      "execution_count": null,
      "metadata": {
        "id": "PAwj37TUnJez"
      },
      "outputs": [],
      "source": [
        "x = np.array([[0.91551091, 0.15073826, 0.77137556, 0.59352491],\n",
        "              [0.81126142, 0.1194849 , 0.29651178, 0.19066982]])\n",
        "\n",
        "correct_forward_result = np.array([[0.71412654, 0.53761337, 0.68381838, 0.64417351],\n",
        "                                   [0.69237824, 0.52983574, 0.57358957, 0.54752357]])\n",
        "\n",
        "correct_backward_result = np.array([[0.20414982, 0.24858523, 0.2162108 , 0.229214  ],\n",
        "                                    [0.21299061, 0.24910983, 0.24458457, 0.24774151]])"
      ]
    },
    {
      "cell_type": "code",
      "execution_count": null,
      "metadata": {
        "id": "XNoRo-sFnJez"
      },
      "outputs": [],
      "source": [
        "sigmoid_layer = Sigmoid()\n",
        "forward_result = sigmoid_layer.forward(x)\n",
        "backward_result = sigmoid_layer.backward(np.ones_like(x))"
      ]
    },
    {
      "cell_type": "code",
      "execution_count": null,
      "metadata": {
        "id": "oZxTXVuXnJez"
      },
      "outputs": [],
      "source": [
        "# значения должны быть близкими\n",
        "assert np.allclose(correct_forward_result, forward_result)"
      ]
    },
    {
      "cell_type": "code",
      "execution_count": null,
      "metadata": {
        "id": "tLXDJN5anJez"
      },
      "outputs": [],
      "source": [
        "# значения должны быть близкими\n",
        "assert np.allclose(correct_backward_result, backward_result)"
      ]
    },
    {
      "cell_type": "markdown",
      "metadata": {
        "id": "rj9aJjsUnJez"
      },
      "source": [
        "# Линейный слой"
      ]
    },
    {
      "cell_type": "code",
      "execution_count": null,
      "metadata": {
        "id": "Q6mX0LG1nJez"
      },
      "outputs": [],
      "source": [
        "class Linear:\n",
        "\n",
        "    def __init__(self, in_features, out_features):\n",
        "\n",
        "        # инициализируем веса\n",
        "        self.weight = np.random.randn(in_features, out_features) * 0.01 # (in_f, out_f)\n",
        "        self.bias = np.zeros(out_features) # (1, out)\n",
        "\n",
        "        # сохраняем градиент для весов\n",
        "        self._grad_weight = None\n",
        "        self._grad_bias = None\n",
        "\n",
        "    def forward(self, x):\n",
        "        self._x = x # (b, in_f)\n",
        "        y = x @ self.weight + self.bias # (b, in_f) x (in_f, out_f) --> (b, out_f)\n",
        "        return y\n",
        "\n",
        "\n",
        "    def backward(self, grad):\n",
        "        \"\"\"значит нам тут приходит градиет с предыдущих слоев\n",
        "        что бы понять, как изменять веса, нам нужно умножить вот этот градиент на вход\n",
        "        \"\"\"\n",
        "        self._grad_weight = self._x.T @ grad  #  @ (in_f, b) @ (b, out_f) -- > (in_f, out_f)\n",
        "        self._grad_bias = grad.sum(axis = 0)\n",
        "\n",
        "        return grad @ self.weight.T # (b, out_f) x (out_f, in_f)\n",
        "\n",
        "    def step(self, learning_rate):\n",
        "        self.weight = self.weight - learning_rate * self._grad_weight\n",
        "        self.bias = self.bias - learning_rate * self._grad_bias\n"
      ]
    },
    {
      "cell_type": "markdown",
      "metadata": {
        "id": "JFmn2_1znJez"
      },
      "source": [
        "# Тестирование"
      ]
    },
    {
      "cell_type": "code",
      "execution_count": null,
      "metadata": {
        "id": "O2iE7GIjnJez"
      },
      "outputs": [],
      "source": [
        "correct_forward_result = np.array([[0.01148086, 0.01477317, 0.00917651],\n",
        "                                   [0.00887036, 0.00972334, 0.00526646]])\n",
        "\n",
        "previous_grad = np.array([[0.01595814, 0.85148336, 0.9980065 ],\n",
        "                          [0.73044998, 0.18287682, 0.41246361]])\n",
        "\n",
        "correct_backward_result = np.array([[0.01089683, 0.00842654, 0.00822628, 0.00729307],\n",
        "                                    [0.00958704, 0.00833055, 0.00209236, 0.00543544]])\n",
        "\n",
        "correct_grad_weight = np.array([[0.60719574, 0.92790321, 1.24830165],\n",
        "                                [0.08968325, 0.15020214, 0.19972094],\n",
        "                                [0.22889674, 0.71103859, 0.89213814],\n",
        "                                [0.14874632, 0.54024567, 0.67098608]])\n",
        "\n",
        "correct_grad_bias = np.array([0.74640812, 1.03436018, 1.41047011])"
      ]
    },
    {
      "cell_type": "code",
      "execution_count": null,
      "metadata": {
        "id": "r_w52pawnJez"
      },
      "outputs": [],
      "source": [
        "linear = Linear(in_features=4, out_features=3)"
      ]
    },
    {
      "cell_type": "code",
      "execution_count": null,
      "metadata": {
        "id": "Q8tXCrJ_nJez"
      },
      "outputs": [],
      "source": [
        "# так как внутри слоя мы объвяляем наши веса рандомно (домножая на 0.01), то давайте присвоим им для теста конкретные значения\n",
        "\n",
        "linear.weight = np.array([[0.00879391, 0.0075844 , 0.00430709],\n",
        "                          [0.00884834, 0.00921104, 0.00044317],\n",
        "                          [0.00011441, 0.00822498, 0.00122346],\n",
        "                          [0.00338301, 0.0001627 , 0.00711473]])\n",
        "\n",
        "linear.bias = np.array([0., 0., 0.])"
      ]
    },
    {
      "cell_type": "code",
      "execution_count": null,
      "metadata": {
        "id": "thZVopvhnJez"
      },
      "outputs": [],
      "source": [
        "forward = linear.forward(x)\n",
        "backward = linear.backward(previous_grad)"
      ]
    },
    {
      "cell_type": "code",
      "execution_count": null,
      "metadata": {
        "id": "BT-EJ6XFnJez"
      },
      "outputs": [],
      "source": [
        "# значения должны быть близкими\n",
        "assert np.allclose(correct_forward_result, forward)"
      ]
    },
    {
      "cell_type": "code",
      "execution_count": null,
      "metadata": {
        "id": "hP2ZmWDznJez"
      },
      "outputs": [],
      "source": [
        "# значения должны быть близкими\n",
        "assert np.allclose(correct_backward_result, backward)"
      ]
    },
    {
      "cell_type": "code",
      "execution_count": null,
      "metadata": {
        "id": "jPXwVyOWnJez"
      },
      "outputs": [],
      "source": [
        "# значения должны быть близкими\n",
        "assert np.allclose(linear._grad_weight, correct_grad_weight)"
      ]
    },
    {
      "cell_type": "code",
      "execution_count": null,
      "metadata": {
        "colab": {
          "base_uri": "https://localhost:8080/"
        },
        "id": "Ej0igBn35UL0",
        "outputId": "a13a1845-ce39-4125-e948-d560d93ddb25"
      },
      "outputs": [
        {
          "output_type": "execute_result",
          "data": {
            "text/plain": [
              "array([[0.60719574, 0.92790321, 1.24830165],\n",
              "       [0.08968325, 0.15020214, 0.19972094],\n",
              "       [0.22889674, 0.71103859, 0.89213814],\n",
              "       [0.14874632, 0.54024567, 0.67098608]])"
            ]
          },
          "metadata": {},
          "execution_count": 418
        }
      ],
      "source": [
        "linear._grad_weight"
      ]
    },
    {
      "cell_type": "code",
      "execution_count": null,
      "metadata": {
        "colab": {
          "base_uri": "https://localhost:8080/"
        },
        "id": "hoqGPRUV5V0P",
        "outputId": "68eaf68a-bdf0-44d6-d960-569081691875"
      },
      "outputs": [
        {
          "output_type": "execute_result",
          "data": {
            "text/plain": [
              "array([[0.60719574, 0.92790321, 1.24830165],\n",
              "       [0.08968325, 0.15020214, 0.19972094],\n",
              "       [0.22889674, 0.71103859, 0.89213814],\n",
              "       [0.14874632, 0.54024567, 0.67098608]])"
            ]
          },
          "metadata": {},
          "execution_count": 419
        }
      ],
      "source": [
        "correct_grad_weight"
      ]
    },
    {
      "cell_type": "code",
      "execution_count": null,
      "metadata": {
        "id": "okE3qYXrnJez"
      },
      "outputs": [],
      "source": [
        "# значения должны быть близкими\n",
        "assert np.allclose(linear._grad_bias, correct_grad_bias)"
      ]
    },
    {
      "cell_type": "markdown",
      "metadata": {
        "id": "6jgEzVNJnJe0"
      },
      "source": [
        "# ReLU"
      ]
    },
    {
      "cell_type": "code",
      "execution_count": null,
      "metadata": {
        "id": "6DM8EJ6OnJe0"
      },
      "outputs": [],
      "source": [
        "class ReLU:\n",
        "\n",
        "    def forward(self, x):\n",
        "        self._x = x\n",
        "\n",
        "        return np.maximum(0, x)\n",
        "\n",
        "    def backward(self, prev_grad):\n",
        "        grad  = prev_grad * (self._x > 0)\n",
        "\n",
        "        return grad"
      ]
    },
    {
      "cell_type": "markdown",
      "metadata": {
        "id": "NEsDK8xBnJe0"
      },
      "source": [
        "# Тестирование"
      ]
    },
    {
      "cell_type": "code",
      "execution_count": null,
      "metadata": {
        "id": "TbZJgFxXnJe0"
      },
      "outputs": [],
      "source": [
        "x = np.array([[ 0.86811233, -0.23718669, -0.18401917, -0.37591633],\n",
        "              [-0.40626018,  0.37746975, -0.46929233,  0.79067681]])\n",
        "\n",
        "correct_forward_result = np.array([[0.86811233, 0.        , 0.        , 0.        ],\n",
        "                                   [0.        , 0.37746975, 0.        , 0.79067681]])\n",
        "\n",
        "previous_grad = np.array([[0.22436157, 0.61897707, 0.67895832, 0.72428618],\n",
        "                          [0.71231319, 0.87345215, 0.91129578, 0.90625846]])\n",
        "\n",
        "correct_backward_result = np.array([[0.22436157, 0.        , 0.        , 0.        ],\n",
        "                                    [0.        , 0.87345215, 0.        , 0.90625846]])"
      ]
    },
    {
      "cell_type": "code",
      "execution_count": null,
      "metadata": {
        "id": "Z7MrtQMNnJe0"
      },
      "outputs": [],
      "source": [
        "relu = ReLU()"
      ]
    },
    {
      "cell_type": "code",
      "execution_count": null,
      "metadata": {
        "id": "rcoriWOYnJe0"
      },
      "outputs": [],
      "source": [
        "forward = relu.forward(x)\n",
        "backward = relu.backward(previous_grad)"
      ]
    },
    {
      "cell_type": "code",
      "execution_count": null,
      "metadata": {
        "id": "quFIkxUxnJe0"
      },
      "outputs": [],
      "source": [
        "# значения должны быть близкими\n",
        "assert np.allclose(correct_forward_result, forward)"
      ]
    },
    {
      "cell_type": "code",
      "execution_count": null,
      "metadata": {
        "id": "k-d2CqnVnJe0"
      },
      "outputs": [],
      "source": [
        "# значения должны быть близкими\n",
        "assert np.allclose(correct_backward_result, backward)"
      ]
    },
    {
      "cell_type": "markdown",
      "metadata": {
        "id": "-e-s39CPnJe0"
      },
      "source": [
        "# BCE test"
      ]
    },
    {
      "cell_type": "markdown",
      "metadata": {
        "id": "V_CxMtv_nJe0"
      },
      "source": [
        "### Не забудьте добавить np.expand_dims(y, 1) в forward"
      ]
    },
    {
      "cell_type": "code",
      "execution_count": null,
      "metadata": {
        "id": "rf7gAK4SnJe0"
      },
      "outputs": [],
      "source": [
        "class BCELoss:\n",
        "\n",
        "    def __init__(self):\n",
        "        self.loss_result = None\n",
        "\n",
        "    def forward(self, x, y):\n",
        "        self.x = x\n",
        "        self.y = np.expand_dims(y, 1)\n",
        "        loss = np.mean(-(self.y * np.log(x + 1e-9) + (1 - self.y) * np.log(1 - x + 1e-9)))\n",
        "        return loss\n",
        "\n",
        "    def backward(self):\n",
        "\n",
        "        grad = (-(self.y / (self.x + 1e-9)) + ((1 - self.y) / (1 - self.x + 1e-9))) / len(self.y)\n",
        "        return grad\n",
        "    def step(self, learning_rate):\n",
        "        pass"
      ]
    },
    {
      "cell_type": "markdown",
      "metadata": {
        "id": "UzyYXwyBnJe0"
      },
      "source": [
        "# Тестирование"
      ]
    },
    {
      "cell_type": "code",
      "execution_count": null,
      "metadata": {
        "id": "kk3X_Jp6nJe0"
      },
      "outputs": [],
      "source": [
        "x = np.array([[0.76242307],\n",
        "              [0.0908412 ],\n",
        "              [0.60176646],\n",
        "              [0.09606798]])\n",
        "\n",
        "y = np.array([1, 0, 1, 0])\n",
        "\n",
        "correct_forward_result = 0.24384403491500606\n",
        "\n",
        "correct_backward_result = np.array([[-0.32790194],\n",
        "                                    [ 0.27497946],\n",
        "                                    [-0.41544356],\n",
        "                                    [ 0.27656947]])"
      ]
    },
    {
      "cell_type": "code",
      "execution_count": null,
      "metadata": {
        "colab": {
          "base_uri": "https://localhost:8080/"
        },
        "id": "kCrwnGM1cwzt",
        "outputId": "b888c4a2-a108-415a-dba9-b282468e2701"
      },
      "outputs": [
        {
          "output_type": "execute_result",
          "data": {
            "text/plain": [
              "array([[1],\n",
              "       [0],\n",
              "       [1],\n",
              "       [0]])"
            ]
          },
          "metadata": {},
          "execution_count": 429
        }
      ],
      "source": [
        "np.expand_dims(y, 1)"
      ]
    },
    {
      "cell_type": "code",
      "execution_count": null,
      "metadata": {
        "id": "Ddq5uZeqnJe0"
      },
      "outputs": [],
      "source": [
        "loss = BCELoss()"
      ]
    },
    {
      "cell_type": "code",
      "execution_count": null,
      "metadata": {
        "id": "qWRV9thQnJe0"
      },
      "outputs": [],
      "source": [
        "forward = loss.forward(x, y)\n",
        "backward = loss.backward()"
      ]
    },
    {
      "cell_type": "code",
      "execution_count": null,
      "metadata": {
        "colab": {
          "base_uri": "https://localhost:8080/"
        },
        "id": "XWA65SqCgtoe",
        "outputId": "1459e12b-0b45-43ec-81cd-c5205c13c825"
      },
      "outputs": [
        {
          "output_type": "execute_result",
          "data": {
            "text/plain": [
              "array([[-0.32790193],\n",
              "       [ 0.27497946],\n",
              "       [-0.41544356],\n",
              "       [ 0.27656947]])"
            ]
          },
          "metadata": {},
          "execution_count": 432
        }
      ],
      "source": [
        "backward"
      ]
    },
    {
      "cell_type": "code",
      "execution_count": null,
      "metadata": {
        "id": "ghHKDc6KnJe0"
      },
      "outputs": [],
      "source": [
        "# значения должны быть близкими\n",
        "assert np.allclose(correct_forward_result, forward)"
      ]
    },
    {
      "cell_type": "code",
      "execution_count": null,
      "metadata": {
        "id": "D2hwjavdnJe0"
      },
      "outputs": [],
      "source": [
        "# значения должны быть близкими\n",
        "assert np.allclose(correct_backward_result, backward)"
      ]
    },
    {
      "cell_type": "markdown",
      "metadata": {
        "id": "QaX0SoqNnJe0"
      },
      "source": [
        "## Реализуйте обертку над слоями - нейронную сеть\n",
        "- TIP 1: modules - это список слоев, которые вы сделали выше. Порядок важен\n",
        "- TIP 2: обновление весов можно сделать циклом\n",
        "- TIP 3: forward идет в одну сторону по слоям, а backward в другую\n",
        "- TIP 4: В backward функции потерь мы не передаем предыдущий градиент, потому что это начало backward, то есть последний слой нашей сети\n",
        "- TIP 5: forward и backward ничего не должны отдавать, в них должны быть расчитаны градиенты для каждого слоя\n",
        "- TIP 6: в step нужно пройтись по всем слоям и обновить веса"
      ]
    },
    {
      "cell_type": "code",
      "execution_count": null,
      "metadata": {
        "id": "Y09w2o51nJe0"
      },
      "outputs": [],
      "source": [
        "class NeuralNetwork:\n",
        "\n",
        "    def __init__(self, modules):\n",
        "\n",
        "        # список слоев\n",
        "        self.modules = modules #[Linear, ReLU, Linear, Sigmoid]\n",
        "\n",
        "    def forward(self, x):\n",
        "        for module in self.modules:\n",
        "            x = module.forward(x)\n",
        "        return x\n",
        "\n",
        "\n",
        "    def backward(self, grad):\n",
        "        \"\"\"\n",
        "        :grad: градиент от функции потерь\n",
        "        :return: возвращать ничего не потребуется\n",
        "        \"\"\"\n",
        "        for module in reversed(self.modules):\n",
        "            grad = module.backward(grad)\n",
        "        return x\n",
        "\n",
        "    def step(self, learning_rate):\n",
        "\n",
        "        self.modules[0].step(learning_rate)\n",
        "        self.modules[2].step(learning_rate)"
      ]
    },
    {
      "cell_type": "code",
      "execution_count": null,
      "metadata": {
        "id": "TV-ZVrP4njBR"
      },
      "outputs": [],
      "source": []
    },
    {
      "cell_type": "markdown",
      "metadata": {
        "id": "jFiKbtoNnJe1"
      },
      "source": [
        "## Реализуйте обертку над моделью"
      ]
    },
    {
      "cell_type": "code",
      "execution_count": null,
      "metadata": {
        "id": "ErS9qTDAnJe1"
      },
      "outputs": [],
      "source": [
        "class MNISTWrapper(wrapper.Wrapper):\n",
        "\n",
        "    def train_batch(self, x, y):\n",
        "        \"\"\"\n",
        "        Нужно реализовать одну итерацию обучения модели:\n",
        "        1. Рассчет forward\n",
        "        2. Рассчет функции потерь\n",
        "        3. Рассчет backward от функции потерь\n",
        "        4. Рассчет backward по модели, передавая туда значение градиента по функции потерь\n",
        "        5. Обновление весов с помощью step\n",
        "        :param x: входные данные np.array with shape (batch_size, n_features)\n",
        "        :param y: предсказания np.array with shape (batch_size, n_classes)\n",
        "        :return:\n",
        "        loss_batch - значение функции потерь, просто скаляр\n",
        "        prediction - матрица предсказаний вашей модели\n",
        "\n",
        "        напомню важные штуки, которые знает наш класс:\n",
        "        self.model\n",
        "        self.loss\n",
        "        self.learning_rate\n",
        "        \"\"\"\n",
        "        # КОД ЗДЕСЬ\n",
        "\n",
        "        prediction = self.model.forward(x)\n",
        "\n",
        "        loss_value = self.loss.forward(prediction, y)\n",
        "        grad_loss = self.loss.backward()\n",
        "\n",
        "        self.model.backward(grad_loss)\n",
        "        self.model.step(self.learning_rate)\n",
        "\n",
        "        return loss_value, prediction\n"
      ]
    },
    {
      "cell_type": "code",
      "execution_count": null,
      "metadata": {
        "id": "C8MHyhl2JIpb"
      },
      "outputs": [],
      "source": []
    },
    {
      "cell_type": "code",
      "execution_count": null,
      "metadata": {
        "id": "uFXPkWbonJe1"
      },
      "outputs": [],
      "source": [
        "# задайте гиперпараметры\n",
        "learning_rate = 0.01\n",
        "epochs = 2\n",
        "\n",
        "# задайте слои в свою нейронную сеть, например, 3 слоя\n",
        "neural_network = NeuralNetwork([\n",
        "   Linear(784, 128),\n",
        "    ReLU(),\n",
        "    Linear(128, 1),\n",
        "    Sigmoid()\n",
        "])\n",
        "\n",
        "loss = BCELoss()"
      ]
    },
    {
      "cell_type": "code",
      "execution_count": null,
      "metadata": {
        "id": "hmmZURc3nJe1"
      },
      "outputs": [],
      "source": [
        "classifier = MNISTWrapper(model=neural_network,\n",
        "                          loss=loss,\n",
        "                          learning_rate=learning_rate)\n"
      ]
    },
    {
      "cell_type": "markdown",
      "metadata": {
        "id": "PJ5ivmrxnJe1"
      },
      "source": [
        "## Обучение модели"
      ]
    },
    {
      "cell_type": "code",
      "execution_count": null,
      "metadata": {
        "colab": {
          "base_uri": "https://localhost:8080/"
        },
        "id": "lqewocPsnJe1",
        "outputId": "e04a1002-bd73-49fc-b165-53cf349e950b"
      },
      "outputs": [
        {
          "output_type": "stream",
          "name": "stderr",
          "text": [
            "Epoch 1: 100%|██████████| 97/97 [00:05<00:00, 19.18it/s, loss=0.445, metric=0.935]\n",
            "Epoch 2: 100%|██████████| 97/97 [00:07<00:00, 13.64it/s, loss=0.117, metric=0.975]\n",
            "Epoch 3: 100%|██████████| 97/97 [00:05<00:00, 19.15it/s, loss=0.0798, metric=0.978]\n",
            "Epoch 4: 100%|██████████| 97/97 [00:07<00:00, 13.62it/s, loss=0.0683, metric=0.98]\n",
            "Epoch 5: 100%|██████████| 97/97 [00:05<00:00, 18.79it/s, loss=0.062, metric=0.981]\n",
            "Epoch 6: 100%|██████████| 97/97 [00:07<00:00, 13.59it/s, loss=0.0577, metric=0.983]\n",
            "Epoch 7: 100%|██████████| 97/97 [00:05<00:00, 18.50it/s, loss=0.0545, metric=0.984]\n",
            "Epoch 8: 100%|██████████| 97/97 [00:05<00:00, 18.87it/s, loss=0.0521, metric=0.984]\n",
            "Epoch 9: 100%|██████████| 97/97 [00:06<00:00, 13.97it/s, loss=0.05, metric=0.984]\n",
            "Epoch 10: 100%|██████████| 97/97 [00:05<00:00, 18.80it/s, loss=0.0483, metric=0.985]\n"
          ]
        }
      ],
      "source": [
        "classifier.train(train_loader, test_loader, epochs=10)"
      ]
    },
    {
      "cell_type": "code",
      "execution_count": null,
      "metadata": {
        "colab": {
          "base_uri": "https://localhost:8080/",
          "height": 1000
        },
        "id": "aoC4mJvKnJe1",
        "outputId": "7df67e18-c4c3-4978-cd9d-71e7e3ef40da"
      },
      "outputs": [
        {
          "output_type": "display_data",
          "data": {
            "text/plain": [
              "<Figure size 1600x1200 with 2 Axes>"
            ],
            "image/png": "[encoded data removed]"
          },
          "metadata": {}
        }
      ],
      "source": [
        "classifier.plot()"
      ]
    },
    {
      "cell_type": "code",
      "execution_count": null,
      "metadata": {
        "id": "E4TY9q9NnJe1"
      },
      "outputs": [],
      "source": []
    },
    {
      "cell_type": "code",
      "execution_count": null,
      "metadata": {
        "id": "nJzP6AqoooXz"
      },
      "outputs": [],
      "source": [
        "import numpy as np\n",
        "# а тут просто решение квадратных уравнений при помощи градиента"
      ]
    },
    {
      "cell_type": "code",
      "execution_count": null,
      "metadata": {
        "id": "TETdR-BhpCPT"
      },
      "outputs": [],
      "source": [
        "w_1 = 0\n",
        "\n",
        "eq = w_1^2+5*w_1-4\n",
        "target = 3\n",
        "best_loss = float('inf')\n",
        "prev_grad = 0\n",
        "grad = 0\n",
        "loss = float('inf')\n",
        "prev_w = 0\n",
        "lr = 0.01\n",
        "loss_cnt = 0\n",
        "grad_cnt = 0\n",
        "iter_cnt = 0\n",
        "prev_loss = float('inf')\n",
        "max_iter = 100\n",
        "\n",
        "def calculate_loss(target, y):\n",
        "  return np.abs(target - y)\n",
        "\n",
        "def calculate_grad(w_1, target, y):\n",
        "\n",
        "  return np.sign(y - target) * (2*w_1 + 5)\n",
        "\n",
        "\n",
        "while True:\n",
        "\n",
        "  iter_cnt+=1\n",
        "  prev_grad = grad\n",
        "  prev_w = w_1\n",
        "  prev_loss = loss\n",
        "\n",
        "  y = w_1*w_1 + 5*w_1 - 4\n",
        "  loss = calculate_loss(target, y)\n",
        "\n",
        "  grad = calculate_grad(w_1, target, y)\n",
        "\n",
        "  w_1 = prev_w - lr*grad\n",
        "\n",
        "\n",
        "  if best_loss > loss:\n",
        "    best_loss = loss\n",
        "    best_w = w_1\n",
        "  print(f'cur_loss: {round(loss, 2)}, prev_loss: {round(prev_loss, 2)}')\n",
        "  print(f'cur_y: {y}')\n",
        "  print((f'cur_grad: {grad}, prew_gard: {prev_grad}'))\n",
        "  print((f'cur_w_1: {w_1}, prew_w: {prev_w}\\n'))\n",
        "\n",
        "  print((f'best_loss: {best_loss}, best_w: {best_w}\\n'))\n",
        "\n",
        "  if abs(grad - prev_grad) < 0.001:\n",
        "    grad_cnt+=1\n",
        "\n",
        "  if loss - prev_loss > 0.001:\n",
        "    loss_cnt+=1\n",
        "\n",
        "  if grad_cnt > 3 or loss_cnt > 3 or iter_cnt > max_iter:\n",
        "    break\n",
        "\n",
        "\n",
        "\n"
      ]
    },
    {
      "cell_type": "code",
      "execution_count": null,
      "metadata": {
        "id": "73cIsa0H3yGT"
      },
      "outputs": [],
      "source": [
        "eq = w_1**2+5*w_1-4"
      ]
    },
    {
      "cell_type": "code",
      "execution_count": null,
      "metadata": {
        "id": "6u5sPNIrooKx"
      },
      "outputs": [],
      "source": [
        "# РЕАЛИЗАЦИЯ НА ТОРЧЕ\n",
        "\n",
        "import torch\n",
        "import torch.optim\n",
        "\n",
        "def find_best_x(target, lr):\n",
        "    best_loss = float('inf')\n",
        "    loss = float('inf')\n",
        "    prev_loss = float('inf')\n",
        "    loss_cnt = 0\n",
        "\n",
        "\n",
        "    w_1 = torch.tensor(0.0, requires_grad=True)\n",
        "\n",
        "    optimizer = torch.optim.SGD([w_1], lr=0.01)\n",
        "\n",
        "    for i in range(100):\n",
        "\n",
        "      optimizer.zero_grad()\n",
        "\n",
        "      y = w_1**2+5*w_1-4\n",
        "\n",
        "      prev_loss = loss\n",
        "\n",
        "      loss = abs(target - y)\n",
        "\n",
        "      loss.backward()\n",
        "\n",
        "      optimizer.step()\n",
        "\n",
        "\n",
        "      if best_loss > loss:\n",
        "\n",
        "        best_loss = loss\n",
        "\n",
        "      if prev_loss < loss:\n",
        "\n",
        "        loss_cnt += 1\n",
        "\n",
        "\n",
        "      print(f\"iter {i}: w={w_1.item():.4f}, loss={loss.item():.4f}\")\n",
        "\n",
        "      # if loss_cnt > 3:\n",
        "      #   print(f'best_loss : {best_loss}')\n",
        "      #   break"
      ]
    },
    {
      "cell_type": "code",
      "execution_count": null,
      "metadata": {
        "id": "5jlr3IZz3dbh"
      },
      "outputs": [],
      "source": [
        "find_best_x(5, 0.1)"
      ]
    },
    {
      "cell_type": "code",
      "execution_count": null,
      "metadata": {
        "id": "5lVkeSIW4GlY"
      },
      "outputs": [],
      "source": []
    }
  ],
  "metadata": {
    "colab": {
      "provenance": [],
      "include_colab_link": true
    },
    "kernelspec": {
      "display_name": "Python 3",
      "language": "python",
      "name": "python3"
    },
    "language_info": {
      "codemirror_mode": {
        "name": "ipython",
        "version": 3
      },
      "file_extension": ".py",
      "mimetype": "text/x-python",
      "name": "python",
      "nbconvert_exporter": "python",
      "pygments_lexer": "ipython3",
      "version": "3.8.8"
    }
  },
  "nbformat": 4,
  "nbformat_minor": 0
}